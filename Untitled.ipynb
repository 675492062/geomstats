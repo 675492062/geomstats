{
 "cells": [
  {
   "cell_type": "code",
   "execution_count": 1,
   "metadata": {
    "collapsed": true
   },
   "outputs": [],
   "source": [
    "from geomstats.special_euclidean_group import SpecialEuclideanGroup\n",
    "from geomstats.special_orthogonal_group import SpecialOrthogonalGroup\n",
    "import numpy as np"
   ]
  },
  {
   "cell_type": "code",
   "execution_count": 2,
   "metadata": {
    "collapsed": true
   },
   "outputs": [],
   "source": [
    "SO3_GROUP = SpecialOrthogonalGroup(n=3)\n",
    "SE3_GROUP = SpecialEuclideanGroup(n=3)"
   ]
  },
  {
   "cell_type": "code",
   "execution_count": 3,
   "metadata": {
    "collapsed": true
   },
   "outputs": [],
   "source": [
    "y_pred = np.array([ -59.7634 , 83.0158 , -159.873 , -231.399 , 48.9788 , -111.722 ]) \n",
    "y_true = np.array([ -90.8444 , 121.202 , 131.175 , 73.9502 , 112.920 , 54.4343]) "
   ]
  },
  {
   "cell_type": "code",
   "execution_count": 9,
   "metadata": {
    "collapsed": true
   },
   "outputs": [],
   "source": [
    "y_pred_reg = SE3_GROUP.regularize(y_pred)\n",
    "y_true_reg = SE3_GROUP.regularize(y_true)\n",
    "\n",
    "y_pred_rot_reg = y_pred_reg[:, :3]\n",
    "y_true_rot_reg = y_true_reg[:, :3]"
   ]
  },
  {
   "cell_type": "code",
   "execution_count": 8,
   "metadata": {},
   "outputs": [
    {
     "name": "stdout",
     "output_type": "stream",
     "text": [
      "[[  -0.40960239    0.56896813   -1.09572686 -231.399        48.9788\n",
      "  -111.722     ]]\n",
      "1.30081366408\n",
      "[[   0.31215009   -0.41646172   -0.4507299    73.9502      112.92         54.4343    ]]\n",
      "0.688502349055\n"
     ]
    }
   ],
   "source": [
    "print(y_pred_reg)\n",
    "print(np.linalg.norm(y_pred_reg[0, :3]))\n",
    "\n",
    "print(y_true_reg)\n",
    "print(np.linalg.norm(y_true_reg[0, :3]))"
   ]
  },
  {
   "cell_type": "code",
   "execution_count": 11,
   "metadata": {},
   "outputs": [
    {
     "data": {
      "text/plain": [
       "array([[ 1.35674875]])"
      ]
     },
     "execution_count": 11,
     "metadata": {},
     "output_type": "execute_result"
    }
   ],
   "source": [
    "SO3_GROUP.bi_invariant_metric.dist(y_pred_rot_reg, y_true_rot_reg)"
   ]
  },
  {
   "cell_type": "code",
   "execution_count": null,
   "metadata": {
    "collapsed": true
   },
   "outputs": [],
   "source": []
  }
 ],
 "metadata": {
  "kernelspec": {
   "display_name": "Python 3",
   "language": "python",
   "name": "python3"
  },
  "language_info": {
   "codemirror_mode": {
    "name": "ipython",
    "version": 3
   },
   "file_extension": ".py",
   "mimetype": "text/x-python",
   "name": "python",
   "nbconvert_exporter": "python",
   "pygments_lexer": "ipython3",
   "version": "3.6.1"
  }
 },
 "nbformat": 4,
 "nbformat_minor": 2
}
